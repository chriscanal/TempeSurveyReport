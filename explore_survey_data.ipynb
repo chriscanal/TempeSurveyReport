{
 "cells": [
  {
   "cell_type": "code",
   "execution_count": null,
   "metadata": {},
   "outputs": [],
   "source": [
    "import pandas as pd\n",
    "from jellyfish import jaro_winkler"
   ]
  },
  {
   "cell_type": "code",
   "execution_count": null,
   "metadata": {},
   "outputs": [],
   "source": [
    "survey_2016 = \"/Users/chris/Code/TempeSurveyReport/tempe_survey_data_2016.csv\""
   ]
  },
  {
   "cell_type": "code",
   "execution_count": null,
   "metadata": {},
   "outputs": [],
   "source": [
    "df16 = pd.read_csv(survey_2016)"
   ]
  },
  {
   "cell_type": "code",
   "execution_count": null,
   "metadata": {},
   "outputs": [],
   "source": [
    "df_describe = df16.describe()"
   ]
  },
  {
   "cell_type": "code",
   "execution_count": null,
   "metadata": {},
   "outputs": [],
   "source": [
    "df16"
   ]
  },
  {
   "cell_type": "code",
   "execution_count": null,
   "metadata": {},
   "outputs": [],
   "source": [
    "for _id in df16[\"ID\"]:\n",
    "    print(_id)"
   ]
  },
  {
   "cell_type": "code",
   "execution_count": null,
   "metadata": {},
   "outputs": [],
   "source": [
    "def normalize(col):\n",
    "    min_val = col[\"min\"]\n",
    "    norm = 1/(col[\"max\"]-min_val)\n",
    "    return col.apply(lambda x: (x-min_val)*norm)\n",
    "df_describe = df_describe.drop(\"count\",axis=0)"
   ]
  },
  {
   "cell_type": "code",
   "execution_count": null,
   "metadata": {},
   "outputs": [],
   "source": [
    "df_norm = df_describe.apply(normalize,axis=0)\n",
    "row_indexes = df_norm.index"
   ]
  },
  {
   "cell_type": "code",
   "execution_count": null,
   "metadata": {},
   "outputs": [],
   "source": [
    "def get_distance(col1,col2):\n",
    "    return sum(abs(df_norm[col1][row]-df_norm[col2][row]) for row in row_indexes)"
   ]
  },
  {
   "cell_type": "code",
   "execution_count": null,
   "metadata": {},
   "outputs": [],
   "source": [
    "from itertools import combinations\n",
    "def get_top_k_features(k=5):\n",
    "    cols_distances = {}\n",
    "    key_pairs = combinations(df_norm.keys(),2)\n",
    "    for cols in key_pairs:\n",
    "        key = tuple(sorted(cols))\n",
    "        if key not in cols_distances:\n",
    "            cols_distances[key] = get_distance(key[0], key[1])\n",
    "    return sorted(cols_distances.items(), key=lambda x: x[1])[:k]"
   ]
  },
  {
   "cell_type": "code",
   "execution_count": null,
   "metadata": {},
   "outputs": [],
   "source": [
    "get_top_k_features()"
   ]
  },
  {
   "cell_type": "code",
   "execution_count": null,
   "metadata": {},
   "outputs": [],
   "source": []
  },
  {
   "cell_type": "code",
   "execution_count": null,
   "metadata": {},
   "outputs": [],
   "source": [
    "def get_full_col_name():\n",
    "    pass\n",
    "\n",
    "def autocomplete_col_names():\n",
    "    pass"
   ]
  },
  {
   "cell_type": "code",
   "execution_count": null,
   "metadata": {},
   "outputs": [],
   "source": [
    "import re\n",
    "\n",
    "df16 = pd.read_csv(survey_2016)\n",
    "full_col_names_file = \"/Users/chris/Code/TempeSurveyReport/full_questions_2016.txt\"\n",
    "full_col_names = []\n",
    "with open(full_col_names_file, \"r\") as f:\n",
    "    full_col_names = f.read().split(\"\\n\")\n",
    "\n",
    "full_name_question_map = {}\n",
    "special_questions = {\n",
    "    \"9\": \" The following adequately support my work-related needs:\",\n",
    "    \"10\": \" The following programs/services adequately support my needs:\",\n",
    "}\n",
    "\n",
    "for text in full_col_names:\n",
    "    period_loc = text.find(\".\")\n",
    "    question_number = text[:period_loc]\n",
    "    if question_number:\n",
    "        stripped_number = re.sub(\"[^0-9]\", \"\", question_number)\n",
    "        if stripped_number in special_questions:\n",
    "            special_text = (\n",
    "                \"Q\"\n",
    "                + question_number\n",
    "                + \".\"\n",
    "                + special_questions[stripped_number]\n",
    "                + text[period_loc + 1 :]\n",
    "            )\n",
    "            full_name_question_map[\"Q\" + question_number] = special_text\n",
    "        else:\n",
    "            full_name_question_map[\"Q\" + question_number] = \"Q\" + text"
   ]
  },
  {
   "cell_type": "code",
   "execution_count": null,
   "metadata": {},
   "outputs": [],
   "source": [
    "print(full_name_question_map)"
   ]
  },
  {
   "cell_type": "code",
   "execution_count": null,
   "metadata": {},
   "outputs": [],
   "source": []
  },
  {
   "cell_type": "code",
   "execution_count": null,
   "metadata": {},
   "outputs": [],
   "source": [
    "rename_dict = {}\n",
    "for key in df16.keys():\n",
    "    rename_dict[key] = key.split(\" \")[0]\n",
    "df16 = df16.rename(columns=rename_dict)\n",
    "section_keys = df16.keys()"
   ]
  },
  {
   "cell_type": "code",
   "execution_count": null,
   "metadata": {},
   "outputs": [],
   "source": [
    "df16 = df16.rename(columns=full_name_question_map)"
   ]
  },
  {
   "cell_type": "code",
   "execution_count": null,
   "metadata": {},
   "outputs": [],
   "source": [
    "df16"
   ]
  },
  {
   "cell_type": "code",
   "execution_count": null,
   "metadata": {},
   "outputs": [],
   "source": [
    "key_map = {}\n",
    "current_keys = set(df16.keys())-set([\"ID\"])\n",
    "for col in df16.keys():\n",
    "    top_sim = 0\n",
    "    best_key = \"\"\n",
    "    for match_col in full_col_names:\n",
    "        sim = jaro_winkler(col,match_col)\n",
    "        if sim > top_sim:\n",
    "            top_sim = sim\n",
    "            best_key = match_col\n",
    "    key_map[col] = best_key"
   ]
  },
  {
   "cell_type": "code",
   "execution_count": null,
   "metadata": {},
   "outputs": [],
   "source": [
    "key_map"
   ]
  },
  {
   "cell_type": "code",
   "execution_count": null,
   "metadata": {},
   "outputs": [],
   "source": [
    "df16 = df16.set_index(\"ID\")"
   ]
  },
  {
   "cell_type": "code",
   "execution_count": null,
   "metadata": {},
   "outputs": [],
   "source": [
    "df16.describe()"
   ]
  },
  {
   "cell_type": "code",
   "execution_count": null,
   "metadata": {},
   "outputs": [],
   "source": []
  }
 ],
 "metadata": {
  "kernelspec": {
   "display_name": "Python 3",
   "language": "python",
   "name": "python3"
  },
  "language_info": {
   "codemirror_mode": {
    "name": "ipython",
    "version": 3
   },
   "file_extension": ".py",
   "mimetype": "text/x-python",
   "name": "python",
   "nbconvert_exporter": "python",
   "pygments_lexer": "ipython3",
   "version": "3.8.0"
  }
 },
 "nbformat": 4,
 "nbformat_minor": 2
}
