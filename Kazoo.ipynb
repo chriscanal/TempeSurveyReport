{
 "cells": [
  {
   "cell_type": "code",
   "execution_count": 1,
   "metadata": {},
   "outputs": [],
   "source": [
    "import pandas as pd\n",
    "from jellyfish import jaro_winkler"
   ]
  },
  {
   "cell_type": "code",
   "execution_count": 6,
   "metadata": {},
   "outputs": [],
   "source": [
    "survey_2016 = \"/Users/chris/Code/tempe_survey_data_2016.csv\""
   ]
  },
  {
   "cell_type": "code",
   "execution_count": 72,
   "metadata": {},
   "outputs": [],
   "source": [
    "df16 = pd.read_csv(survey_2016)"
   ]
  },
  {
   "cell_type": "code",
   "execution_count": 8,
   "metadata": {},
   "outputs": [],
   "source": [
    "df_describe = df16.describe()"
   ]
  },
  {
   "cell_type": "code",
   "execution_count": 9,
   "metadata": {},
   "outputs": [],
   "source": [
    "def normalize(col):\n",
    "    min_val = col[\"min\"]\n",
    "    norm = 1/(col[\"max\"]-min_val)\n",
    "    return col.apply(lambda x: (x-min_val)*norm)\n",
    "df_describe = df_describe.drop(\"count\",axis=0)"
   ]
  },
  {
   "cell_type": "code",
   "execution_count": 10,
   "metadata": {},
   "outputs": [],
   "source": [
    "df_norm = df_describe.apply(normalize,axis=0)\n",
    "row_indexes = df_norm.index"
   ]
  },
  {
   "cell_type": "code",
   "execution_count": 11,
   "metadata": {},
   "outputs": [],
   "source": [
    "def get_distance(col1,col2):\n",
    "    return sum(abs(df_norm[col1][row]-df_norm[col2][row]) for row in row_indexes)"
   ]
  },
  {
   "cell_type": "code",
   "execution_count": 12,
   "metadata": {},
   "outputs": [],
   "source": [
    "from itertools import combinations\n",
    "def get_top_k_features(k=5):\n",
    "    cols_distances = {}\n",
    "    key_pairs = combinations(df_norm.keys(),2)\n",
    "    for cols in key_pairs:\n",
    "        key = tuple(sorted(cols))\n",
    "        if key not in cols_distances:\n",
    "            cols_distances[key] = get_distance(key[0], key[1])\n",
    "    return sorted(cols_distances.items(), key=lambda x: x[1])[:k]"
   ]
  },
  {
   "cell_type": "code",
   "execution_count": 13,
   "metadata": {},
   "outputs": [
    {
     "data": {
      "text/plain": [
       "[(('Q34  I believe exceptional job performanc',\n",
       "   'Q67  How has the quality of the work envi'),\n",
       "  0.0014203349949593047),\n",
       " (('Q27  Within the last 30 days I have recei',\n",
       "   'Q56  I am encouraged to be innovative and'),\n",
       "  0.001515698196722981),\n",
       " (('Q20  My work is appreciated by my immedia',\n",
       "   'Q62  Overall  I am very satisfied with th'),\n",
       "  0.001522062099594712),\n",
       " (('Q50  I can express my opinions about work',\n",
       "   'Q56  I am encouraged to be innovative and'),\n",
       "  0.001757359557513244),\n",
       " (('Q27  Within the last 30 days I have recei',\n",
       "   'Q50  I can express my opinions about work'),\n",
       "  0.0020947872373406062)]"
      ]
     },
     "execution_count": 13,
     "metadata": {},
     "output_type": "execute_result"
    }
   ],
   "source": [
    "get_top_k_features()"
   ]
  },
  {
   "cell_type": "code",
   "execution_count": 27,
   "metadata": {},
   "outputs": [],
   "source": []
  },
  {
   "cell_type": "code",
   "execution_count": 39,
   "metadata": {},
   "outputs": [
    {
     "name": "stderr",
     "output_type": "stream",
     "text": [
      "<timed exec>:2: DeprecationWarning: PY_SSIZE_T_CLEAN will be required for '#' formats\n"
     ]
    },
    {
     "name": "stdout",
     "output_type": "stream",
     "text": [
      "CPU times: user 404 ms, sys: 5.26 ms, total: 410 ms\n",
      "Wall time: 412 ms\n"
     ]
    }
   ],
   "source": [
    "a = jaro_winkler(full_col_names[0], full_col_names[1])"
   ]
  },
  {
   "cell_type": "code",
   "execution_count": 51,
   "metadata": {},
   "outputs": [],
   "source": [
    "def get_full_col_name():\n",
    "    pass\n",
    "\n",
    "def autocomplete_col_names():\n",
    "    pass"
   ]
  },
  {
   "cell_type": "code",
   "execution_count": 85,
   "metadata": {},
   "outputs": [],
   "source": [
    "import re\n",
    "\n",
    "df16 = pd.read_csv(survey_2016)\n",
    "full_col_names_file = \"/Users/chris/Code/TempeSurveyReport/full_questions_2016.txt\"\n",
    "full_col_names = []\n",
    "with open(full_col_names_file, \"r\") as f:\n",
    "    full_col_names = f.read().split(\"\\n\")\n",
    "\n",
    "full_name_question_map = {}\n",
    "special_questions = {\n",
    "    \"9\": \" The following adequately support my work-related needs:\",\n",
    "    \"10\": \" The following programs/services adequately support my needs:\",\n",
    "}\n",
    "\n",
    "for text in full_col_names:\n",
    "    period_loc = text.find(\".\")\n",
    "    question_number = text[:period_loc]\n",
    "    if question_number:\n",
    "        stripped_number = re.sub(\"[^0-9]\", \"\", question_number)\n",
    "        if stripped_number in special_questions:\n",
    "            special_text = (\n",
    "                \"Q\"\n",
    "                + question_number\n",
    "                + \".\"\n",
    "                + special_questions[stripped_number]\n",
    "                + text[period_loc + 1 :]\n",
    "            )\n",
    "            full_name_question_map[\"Q\" + question_number] = special_text\n",
    "        else:\n",
    "            full_name_question_map[\"Q\" + question_number] = \"Q\" + text"
   ]
  },
  {
   "cell_type": "code",
   "execution_count": 89,
   "metadata": {},
   "outputs": [
    {
     "name": "stdout",
     "output_type": "stream",
     "text": [
      "{'Q1': 'Q1. I receive training to do my job effectively', 'Q2': 'Q2. There is someone at work who encourages my development', 'Q3': 'Q3. I have been mentored at work', 'Q4': 'Q4. I have received fair consideration for advancement and promotion, when available, within the City of Tempe', 'Q5': \"Q5. I am aware of the City's educational partnerships, Tempe Professional Development Network, The Mentoring Program, and other programs related to professional development and career mobility\", 'Q6': \"Q6. The City's programs related to professional development and career mobility, such as educational partnerships, Tempe Professional Development Network, etc., are useful to me\", 'Q7': 'Q7. Overall, I am satisfied with the professional development opportunities that are available to me at the City', 'Q8': 'Q8. How could the City improve professional development and/or career mobility for employees?', 'Q9': 'Q9. The following adequately support my work-related needs: The following adequately support my work-related needs:', 'Q9a': \"Q9a. The following adequately support my work-related needs: City Manager's Office\", 'Q9b': 'Q9b. The following adequately support my work-related needs: Strategic Management & Diversity Office', 'Q9c': 'Q9c. The following adequately support my work-related needs: Human Resources', 'Q9d': 'Q9d. The following adequately support my work-related needs: Information Technology', 'Q9e': \"Q9e. The following adequately support my work-related needs: Risk Management/Worker's Compensation\", 'Q10': 'Q10. The following programs/services adequately support my needs: The following programs/services adequately support my needs:', 'Q10a': 'Q10a. The following programs/services adequately support my needs: The Wellness program', 'Q10b': 'Q10b. The following programs/services adequately support my needs: City mediation services', 'Q10c': 'Q10c. The following programs/services adequately support my needs: The Safe Haven process', 'Q11': 'Q11. Senior leadership in my department is demonstrating and communicating the same values that are expected of me', 'Q12': 'Q12. My physical work environment (building) is safe, clean and maintained in good operating order', 'Q13': 'Q13. Overall, I am satisfied with the support that is provided to employees by the City of Tempe', 'Q14': 'Q14. How could the City improve organizational support for employees?', 'Q15': 'Q15. My immediate supervisor treats me with respect', 'Q16': 'Q16. I know what is expected of me', 'Q17': 'Q17. I have the materials and equipment I need to do my job right', 'Q18': 'Q18. I am comfortable expressing my opinions about work related issues to my immediate supervisor', 'Q19': 'Q19. I believe my opinions seem to count', 'Q20': 'Q20. My work is appreciated by my immediate supervisor', 'Q21': 'Q21. My immediate supervisor gives me clear expectations for work assignments', 'Q22': 'Q22. My immediate supervisor makes good use of my time', 'Q23': 'Q23. I receive constructive feedback on my job performance from my immediate supervisor', 'Q24': 'Q24. The work I perform is evaluated fairly', 'Q25': 'Q25. My immediate supervisor knows my career/job goals', 'Q26': 'Q26. My immediate supervisor supports me in achieving my career/job goals', 'Q27': 'Q27. Within the last 30 days I have received feedback on my job performance from my supervisor', 'Q28': 'Q28. When I request training, my supervisor is open to working with me to ensure I could attend', 'Q29': 'Q29. Senior managers in my department listen to me', 'Q30': 'Q30. I believe senior managers in my department support decisions made by my supervisor', 'Q31': 'Q31. As a supervisor, I am supported when addressing staff issues', 'Q32': 'Q32. Conflict in my work area is resolved effectively', 'Q33': 'Q33. I believe assignments in my department are distributed fairly', 'Q34': 'Q34. I believe exceptional job performance is recognized appropriately by managers/supervisors in my work unit', 'Q35': 'Q35. I believe poor job performance is dealt with effectively by managers/supervisors in my work unit', 'Q36': 'Q36. As a supervisor, I have been given the training, tools, and resources to lead my work unit', 'Q37': 'Q37. I feel safe and comfortable in my work unit', 'Q38': 'Q38. My immediate supervisor has the tools to deal with conflict', 'Q39': 'Q39. Overall, I am satisfied with the working environment in my department', 'Q41': \"Q41. The City's health care plan meets my needs\", 'Q42': 'Q42. The amount that I pay for health care benefits is reasonable', 'Q43': 'Q43. The City does a good job of informing me about my benefits', 'Q44': 'Q44. The amount of leave that I receive each year meets my needs', 'Q45': 'Q45. I think the amount I am paid is adequate for the work I do', 'Q46': \"Q46. I am satisfied with the City's deferred compensation benefits\", 'Q47': 'Q47. Overall, I am reasonably compensated in pay and benefits for the work I do', 'Q48': 'Q48. How could the City improve compensation and benefits for employees?', 'Q49': 'Q49. I receive information that affects my work in a timely manner from my immediate supervisor', 'Q50': 'Q50. I can express my opinions about work related issues to my department management team', 'Q51': 'Q51. Communication between work units/divisions INSIDE my department is good', 'Q52': 'Q52. Communication between my work unit/division and work units/divisions OUTSIDE my department is good', 'Q53': 'Q53. With respect to my job, communication between departments is good', 'Q54': 'Q54. I have adequate input on decisions affecting my work', 'Q55': 'Q55. Senior managers in my department use input from employees to make decisions', 'Q56': 'Q56. I am encouraged to be innovative and come up with better ways to do things at work', 'Q57': 'Q57. Employees in my department are highly motivated about accomplishing our goals', 'Q58': 'Q58. Overall, I am satisfied with the level of employee engagement in my Department', 'Q59': 'Q59. How could the City improve employee engagement for employees?', 'Q60': 'Q60. My co-workers treat me with respect', 'Q61': 'Q61. Conflict between co-workers is resolved effectively', 'Q62': 'Q62. Overall, I am very satisfied with the quality of peer relationships among City employees', 'Q63': 'Q63. How could the City improve peer relationships among employees?', 'Q64': \"Q64. Are you aware of the Council priorities and the City's Strategic Plan (Planning Process)?\", 'Q65': 'Q65. Are you proud to work for the City of Tempe?', 'Q66': 'Q66. Overall, how satisfied are you with your current job?', 'Q67': 'Q67. How has the quality of the work environment in your department changed since you started working for the City of Tempe?', 'Q68': 'Q68. Would you recommend the City of Tempe as a place to work to a friend or relative?', 'Q69': \"Q69. Does the City's working environment and leadership encourage you to go above and beyond the minimum effort that is required for your job?\", 'Q70': 'Q70. Would like to finish your career with the City of Tempe?', 'Q71': 'Q71. Have you applied for a new position within the City of Tempe in the past two years?'}\n"
     ]
    }
   ],
   "source": [
    "print(full_name_question_map)"
   ]
  },
  {
   "cell_type": "code",
   "execution_count": 86,
   "metadata": {},
   "outputs": [],
   "source": [
    "rename_dict = {}\n",
    "for key in df16.keys():\n",
    "    rename_dict[key] = key.split(\" \")[0]\n",
    "df16 = df16.rename(columns=rename_dict)\n",
    "section_keys = df16.keys()\n",
    "def get_section()"
   ]
  },
  {
   "cell_type": "code",
   "execution_count": 87,
   "metadata": {},
   "outputs": [
    {
     "data": {
      "text/plain": [
       "Index(['ID', 'Q1', 'Q2', 'Q3', 'Q4', 'Q5', 'Q6', 'Q7', 'Q9a', 'Q9b', 'Q9c',\n",
       "       'Q9d', 'Q9e', 'Q10a', 'Q10b', 'Q10c', 'Q11', 'Q12', 'Q13', 'Q15', 'Q16',\n",
       "       'Q17', 'Q18', 'Q19', 'Q20', 'Q21', 'Q22', 'Q23', 'Q24', 'Q25', 'Q26',\n",
       "       'Q27', 'Q28', 'Q29', 'Q30', 'Q31', 'Q32', 'Q33', 'Q34', 'Q35', 'Q36',\n",
       "       'Q37', 'Q38', 'Q39', 'Q41', 'Q42', 'Q43', 'Q44', 'Q45', 'Q46', 'Q47',\n",
       "       'Q49', 'Q50', 'Q51', 'Q52', 'Q53', 'Q54', 'Q55', 'Q56', 'Q57', 'Q58',\n",
       "       'Q60', 'Q61', 'Q62', 'Q64', 'Q65', 'Q66', 'Q67', 'Q68', 'Q69', 'Q70',\n",
       "       'Q71', 'Q74'],\n",
       "      dtype='object')"
      ]
     },
     "execution_count": 87,
     "metadata": {},
     "output_type": "execute_result"
    }
   ],
   "source": [
    "df16.keys()"
   ]
  },
  {
   "cell_type": "code",
   "execution_count": 44,
   "metadata": {},
   "outputs": [
    {
     "name": "stderr",
     "output_type": "stream",
     "text": [
      "<ipython-input-44-d3a95ec78f61>:7: DeprecationWarning: PY_SSIZE_T_CLEAN will be required for '#' formats\n",
      "  sim = jaro_winkler(col,match_col)\n"
     ]
    }
   ],
   "source": [
    "key_map = {}\n",
    "current_keys = set(df16.keys())-set([\"ID\"])\n",
    "for col in df16.keys():\n",
    "    top_sim = 0\n",
    "    best_key = \"\"\n",
    "    for match_col in full_col_names:\n",
    "        sim = jaro_winkler(col,match_col)\n",
    "        if sim > top_sim:\n",
    "            top_sim = sim\n",
    "            best_key = match_col\n",
    "    key_map[col] = best_key"
   ]
  },
  {
   "cell_type": "code",
   "execution_count": 45,
   "metadata": {},
   "outputs": [
    {
     "data": {
      "text/plain": [
       "{'ID': \"5. I am aware of the City's educational partnerships, Tempe Professional Development Network, The Mentoring Program, and other programs related to professional development and career mobility\",\n",
       " 'Q1  I receive training to do my job effec': '1. I receive training to do my job effectively',\n",
       " 'Q2  There is someone at work who encourag': '2. There is someone at work who encourages my development',\n",
       " 'Q3  I have been mentored at work': '3. I have been mentored at work',\n",
       " 'Q4  I have received fair consideration fo': '54. I have adequate input on decisions affecting my work',\n",
       " \"Q5  I am aware of the City's educational\": '37. I feel safe and comfortable in my work unit',\n",
       " \"Q6  The City's programs related to profes\": '63. How could the City improve peer relationships among employees?',\n",
       " 'Q7  Overall  I am satisfied with the prof': '38. My immediate supervisor has the tools to deal with conflict',\n",
       " \"Q9a  City Manager's Office\": \"9a. City Manager's Office\",\n",
       " 'Q9b  Strategic Management & Diversity Off': '9b. Strategic Management & Diversity Office',\n",
       " 'Q9c  Human Resources': '9c. Human Resources',\n",
       " 'Q9d  Information Technology': '9d. Information Technology',\n",
       " \"Q9e  Risk Management/Worker's Compensatio\": \"9e. Risk Management/Worker's Compensation\",\n",
       " 'Q10a  The Wellness program': '10a. The Wellness program',\n",
       " 'Q10b  City mediation services': '10b. City mediation services',\n",
       " 'Q10c  The Safe Haven process': '10c. The Safe Haven process',\n",
       " 'Q11  Senior leadership in my department i': '15. My immediate supervisor treats me with respect',\n",
       " 'Q12  My physical work environment (buildi': '20. My work is appreciated by my immediate supervisor',\n",
       " 'Q13  Overall  I am satisfied with the sup': '62. Overall, I am very satisfied with the quality of peer relationships among City employees',\n",
       " 'Q15  My immediate supervisor treats me wi': '15. My immediate supervisor treats me with respect',\n",
       " 'Q16  I know what is expected of me': '16. I know what is expected of me',\n",
       " 'Q17  I have the materials and equipment I': '17. I have the materials and equipment I need to do my job right',\n",
       " 'Q18  I am comfortable expressing my opini': '19. I believe my opinions seem to count',\n",
       " 'Q19  I believe my opinions seem to count': '19. I believe my opinions seem to count',\n",
       " 'Q20  My work is appreciated by my immedia': '20. My work is appreciated by my immediate supervisor',\n",
       " 'Q21  My immediate supervisor gives me cle': '15. My immediate supervisor treats me with respect',\n",
       " 'Q22  My immediate supervisor makes good u': '22. My immediate supervisor makes good use of my time',\n",
       " 'Q23  I receive constructive feedback on m': '32. Conflict in my work area is resolved effectively',\n",
       " 'Q24  The work I perform is evaluated fair': '24. The work I perform is evaluated fairly',\n",
       " 'Q25  My immediate supervisor knows my car': '25. My immediate supervisor knows my career/job goals',\n",
       " 'Q26  My immediate supervisor supports me': '20. My work is appreciated by my immediate supervisor',\n",
       " 'Q27  Within the last 30 days I have recei': '17. I have the materials and equipment I need to do my job right',\n",
       " 'Q28  When I request training  my supervis': '28. When I request training, my supervisor is open to working with me to ensure I could attend',\n",
       " 'Q29  Senior managers in my department lis': '29. Senior managers in my department listen to me',\n",
       " 'Q30  I believe senior managers in my depa': '29. Senior managers in my department listen to me',\n",
       " 'Q31  As a supervisor  I am supported when': '31. As a supervisor, I am supported when addressing staff issues',\n",
       " 'Q32  Conflict in my work area is resolved': '32. Conflict in my work area is resolved effectively',\n",
       " 'Q33  I believe assignments in my departme': '33. I believe assignments in my department are distributed fairly',\n",
       " 'Q34  I believe exceptional job performanc': '1. I receive training to do my job effectively',\n",
       " 'Q35  I believe poor job performance is de': '1. I receive training to do my job effectively',\n",
       " 'Q36  As a supervisor  I have been given t': '31. As a supervisor, I am supported when addressing staff issues',\n",
       " 'Q37  I feel safe and comfortable in my wo': '37. I feel safe and comfortable in my work unit',\n",
       " 'Q38  My immediate supervisor has the tool': '38. My immediate supervisor has the tools to deal with conflict',\n",
       " 'Q39  Overall  I am satisfied with the wor': '39. Overall, I am satisfied with the working environment in my department',\n",
       " \"Q41  The City's health care plan meets my\": \"41. The City's health care plan meets my needs\",\n",
       " 'Q42  The amount that I pay for health car': '42. The amount that I pay for health care benefits is reasonable',\n",
       " 'Q43  The City does a good job of informin': '43. The City does a good job of informing me about my benefits',\n",
       " 'Q44  The amount of leave that I receive e': '44. The amount of leave that I receive each year meets my needs',\n",
       " 'Q45  I think the amount I am paid is adeq': '45. I think the amount I am paid is adequate for the work I do',\n",
       " \"Q46  I am satisfied with the City's defer\": \"46. I am satisfied with the City's deferred compensation benefits\",\n",
       " 'Q47  Overall  I am reasonably compensated': '47. Overall, I am reasonably compensated in pay and benefits for the work I do',\n",
       " 'Q49  I receive information that affects m': '54. I have adequate input on decisions affecting my work',\n",
       " 'Q50  I can express my opinions about work': '37. I feel safe and comfortable in my work unit',\n",
       " 'Q51  Communication between work units/div': '51. Communication between work units/divisions INSIDE my department is good',\n",
       " 'Q52  Communication between my work unit/d': '51. Communication between work units/divisions INSIDE my department is good',\n",
       " 'Q53  With respect to my job  communicatio': '53. With respect to my job, communication between departments is good',\n",
       " 'Q54  I have adequate input on decisions a': '54. I have adequate input on decisions affecting my work',\n",
       " 'Q55  Senior managers in my department use': '29. Senior managers in my department listen to me',\n",
       " 'Q56  I am encouraged to be innovative and': '54. I have adequate input on decisions affecting my work',\n",
       " 'Q57  Employees in my department are highl': '57. Employees in my department are highly motivated about accomplishing our goals',\n",
       " 'Q58  Overall  I am satisfied with the lev': '58. Overall, I am satisfied with the level of employee engagement in my Department',\n",
       " 'Q60  My co-workers treat me with respect': '60. My co-workers treat me with respect',\n",
       " 'Q61  Conflict between co-workers is resol': '61. Conflict between co-workers is resolved effectively',\n",
       " 'Q62  Overall  I am very satisfied with th': '66. Overall, how satisfied are you with your current job?',\n",
       " 'Q64  Are you aware of the Council priorit': '66. Overall, how satisfied are you with your current job?',\n",
       " 'Q65  Are you proud to work for the City o': '65. Are you proud to work for the City of Tempe?',\n",
       " 'Q66  Overall  how satisfied are you with': '66. Overall, how satisfied are you with your current job?',\n",
       " 'Q67  How has the quality of the work envi': '37. I feel safe and comfortable in my work unit',\n",
       " 'Q68  Would you recommend the City of Temp': '65. Are you proud to work for the City of Tempe?',\n",
       " \"Q69  Does the City's working environment\": '48. How could the City improve compensation and benefits for employees?',\n",
       " 'Q70  Would like to finish your career wit': '70. Would like to finish your career with the City of Tempe?',\n",
       " 'Q71  Have you applied for a new position': '14. How could the City improve organizational support for employees?',\n",
       " 'Q74  In which department do you currently': '24. The work I perform is evaluated fairly'}"
      ]
     },
     "execution_count": 45,
     "metadata": {},
     "output_type": "execute_result"
    }
   ],
   "source": [
    "key_map"
   ]
  },
  {
   "cell_type": "code",
   "execution_count": null,
   "metadata": {},
   "outputs": [],
   "source": []
  }
 ],
 "metadata": {
  "kernelspec": {
   "display_name": "Python 3",
   "language": "python",
   "name": "python3"
  },
  "language_info": {
   "codemirror_mode": {
    "name": "ipython",
    "version": 3
   },
   "file_extension": ".py",
   "mimetype": "text/x-python",
   "name": "python",
   "nbconvert_exporter": "python",
   "pygments_lexer": "ipython3",
   "version": "3.8.0"
  }
 },
 "nbformat": 4,
 "nbformat_minor": 2
}
