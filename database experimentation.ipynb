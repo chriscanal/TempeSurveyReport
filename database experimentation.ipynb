{
 "cells": [
  {
   "cell_type": "code",
   "execution_count": 1,
   "metadata": {},
   "outputs": [],
   "source": [
    "import os\n",
    "import pandas as pd\n",
    "from sqlalchemy import create_engine\n",
    "from sqlalchemy.orm import sessionmaker, relationship\n",
    "from database import (\n",
    "    Survey,\n",
    "    Section,\n",
    "    Question,\n",
    "    PossibleResponse,\n",
    "    Responder,\n",
    "    Answer,\n",
    "    base,\n",
    ")\n",
    "from question_data import sections, full_question_names, section_possible_answers\n",
    "from sqlalchemy.ext.declarative import declarative_base\n",
    "\n",
    "survey_2016 = \"/Users/chris/Code/TempeSurveyReport/tempe_survey_data_2016.csv\"\n",
    "df16 = pd.read_csv(survey_2016)\n",
    "\n",
    "user = os.environ[\"TEMPE_SURVEY_DB_USER\"]\n",
    "password = os.environ[\"TEMPE_SURVEY_DB_PASS\"]\n",
    "host = os.environ[\"TEMPE_SURVEY_DB_HOST\"]\n",
    "port = os.environ[\"TEMPE_SURVEY_DB_PORT\"]\n",
    "dbname = os.environ[\"TEMPE_SURVEY_DB_NAME\"]\n",
    "connection_string = \"postgresql://%s:%s@%s:%s/%s\" % (user, password, host, port, dbname)\n",
    "# connection_string = \"sqlite:///:memory:\"\n",
    "\n",
    "\n",
    "db = create_engine(connection_string, echo=True)"
   ]
  },
  {
   "cell_type": "code",
   "execution_count": 2,
   "metadata": {},
   "outputs": [],
   "source": [
    "Session = sessionmaker(db)\n",
    "session = Session()"
   ]
  },
  {
   "cell_type": "code",
   "execution_count": 3,
   "metadata": {},
   "outputs": [
    {
     "name": "stdout",
     "output_type": "stream",
     "text": [
      "2020-01-12 16:30:48,570 INFO sqlalchemy.engine.base.Engine select version()\n",
      "2020-01-12 16:30:48,572 INFO sqlalchemy.engine.base.Engine {}\n",
      "2020-01-12 16:30:48,677 INFO sqlalchemy.engine.base.Engine select current_schema()\n",
      "2020-01-12 16:30:48,679 INFO sqlalchemy.engine.base.Engine {}\n",
      "2020-01-12 16:30:48,780 INFO sqlalchemy.engine.base.Engine SELECT CAST('test plain returns' AS VARCHAR(60)) AS anon_1\n",
      "2020-01-12 16:30:48,782 INFO sqlalchemy.engine.base.Engine {}\n",
      "2020-01-12 16:30:48,831 INFO sqlalchemy.engine.base.Engine SELECT CAST('test unicode returns' AS VARCHAR(60)) AS anon_1\n",
      "2020-01-12 16:30:48,833 INFO sqlalchemy.engine.base.Engine {}\n",
      "2020-01-12 16:30:48,888 INFO sqlalchemy.engine.base.Engine show standard_conforming_strings\n",
      "2020-01-12 16:30:48,890 INFO sqlalchemy.engine.base.Engine {}\n",
      "2020-01-12 16:30:48,996 INFO sqlalchemy.engine.base.Engine select relname from pg_class c join pg_namespace n on n.oid=c.relnamespace where pg_catalog.pg_table_is_visible(c.oid) and relname=%(name)s\n",
      "2020-01-12 16:30:48,997 INFO sqlalchemy.engine.base.Engine {'name': 'surveys'}\n",
      "2020-01-12 16:30:49,120 INFO sqlalchemy.engine.base.Engine select relname from pg_class c join pg_namespace n on n.oid=c.relnamespace where pg_catalog.pg_table_is_visible(c.oid) and relname=%(name)s\n",
      "2020-01-12 16:30:49,123 INFO sqlalchemy.engine.base.Engine {'name': 'sections'}\n",
      "2020-01-12 16:30:49,180 INFO sqlalchemy.engine.base.Engine select relname from pg_class c join pg_namespace n on n.oid=c.relnamespace where pg_catalog.pg_table_is_visible(c.oid) and relname=%(name)s\n",
      "2020-01-12 16:30:49,182 INFO sqlalchemy.engine.base.Engine {'name': 'questions'}\n",
      "2020-01-12 16:30:49,238 INFO sqlalchemy.engine.base.Engine select relname from pg_class c join pg_namespace n on n.oid=c.relnamespace where pg_catalog.pg_table_is_visible(c.oid) and relname=%(name)s\n",
      "2020-01-12 16:30:49,240 INFO sqlalchemy.engine.base.Engine {'name': 'possible_responses'}\n",
      "2020-01-12 16:30:49,296 INFO sqlalchemy.engine.base.Engine select relname from pg_class c join pg_namespace n on n.oid=c.relnamespace where pg_catalog.pg_table_is_visible(c.oid) and relname=%(name)s\n",
      "2020-01-12 16:30:49,299 INFO sqlalchemy.engine.base.Engine {'name': 'responders'}\n",
      "2020-01-12 16:30:49,355 INFO sqlalchemy.engine.base.Engine select relname from pg_class c join pg_namespace n on n.oid=c.relnamespace where pg_catalog.pg_table_is_visible(c.oid) and relname=%(name)s\n",
      "2020-01-12 16:30:49,358 INFO sqlalchemy.engine.base.Engine {'name': 'answers'}\n",
      "2020-01-12 16:30:49,406 INFO sqlalchemy.engine.base.Engine \n",
      "CREATE TABLE possible_responses (\n",
      "\tid INTEGER NOT NULL, \n",
      "\tpossible_response_text VARCHAR(255), \n",
      "\tpossible_response_number INTEGER, \n",
      "\tsection_id INTEGER NOT NULL, \n",
      "\tPRIMARY KEY (id, section_id), \n",
      "\tUNIQUE (id), \n",
      "\tFOREIGN KEY(section_id) REFERENCES sections (id)\n",
      ")\n",
      "\n",
      "\n",
      "2020-01-12 16:30:49,408 INFO sqlalchemy.engine.base.Engine {}\n",
      "2020-01-12 16:30:49,470 INFO sqlalchemy.engine.base.Engine COMMIT\n",
      "2020-01-12 16:30:49,530 INFO sqlalchemy.engine.base.Engine \n",
      "CREATE TABLE responders (\n",
      "\tid SERIAL NOT NULL, \n",
      "\tPRIMARY KEY (id), \n",
      "\tUNIQUE (id)\n",
      ")\n",
      "\n",
      "\n",
      "2020-01-12 16:30:49,531 INFO sqlalchemy.engine.base.Engine {}\n",
      "2020-01-12 16:30:49,649 INFO sqlalchemy.engine.base.Engine COMMIT\n",
      "2020-01-12 16:30:49,702 INFO sqlalchemy.engine.base.Engine \n",
      "CREATE TABLE answers (\n",
      "\tid INTEGER NOT NULL, \n",
      "\tsurvey_id INTEGER NOT NULL, \n",
      "\tresponder_id INTEGER NOT NULL, \n",
      "\tquestion_id INTEGER NOT NULL, \n",
      "\tsection_id INTEGER NOT NULL, \n",
      "\tchosen_response_id INTEGER NOT NULL, \n",
      "\tPRIMARY KEY (id, survey_id, responder_id, question_id, section_id, chosen_response_id), \n",
      "\tUNIQUE (id), \n",
      "\tFOREIGN KEY(survey_id) REFERENCES surveys (id), \n",
      "\tFOREIGN KEY(responder_id) REFERENCES responders (id), \n",
      "\tFOREIGN KEY(question_id) REFERENCES questions (id), \n",
      "\tFOREIGN KEY(section_id) REFERENCES sections (id), \n",
      "\tFOREIGN KEY(chosen_response_id) REFERENCES possible_responses (id)\n",
      ")\n",
      "\n",
      "\n",
      "2020-01-12 16:30:49,703 INFO sqlalchemy.engine.base.Engine {}\n",
      "2020-01-12 16:30:49,811 INFO sqlalchemy.engine.base.Engine COMMIT\n"
     ]
    }
   ],
   "source": [
    "base.metadata.create_all(db)"
   ]
  },
  {
   "cell_type": "code",
   "execution_count": 4,
   "metadata": {},
   "outputs": [],
   "source": [
    "tempe_survey = Survey(\n",
    "    id=1,\n",
    "    survey_name=\"Tempe Employee Satisfaction Survey\",\n",
    "    company=\"City of Tempe\",\n",
    "    year=2016,\n",
    ")"
   ]
  },
  {
   "cell_type": "code",
   "execution_count": 5,
   "metadata": {},
   "outputs": [
    {
     "name": "stdout",
     "output_type": "stream",
     "text": [
      "2020-01-12 16:31:15,825 INFO sqlalchemy.engine.base.Engine BEGIN (implicit)\n",
      "2020-01-12 16:31:15,829 INFO sqlalchemy.engine.base.Engine INSERT INTO surveys (id, survey_name, company, year) VALUES (%(id)s, %(survey_name)s, %(company)s, %(year)s)\n",
      "2020-01-12 16:31:15,831 INFO sqlalchemy.engine.base.Engine {'id': 1, 'survey_name': 'Tempe Employee Satisfaction Survey', 'company': 'City of Tempe', 'year': 2016}\n",
      "2020-01-12 16:31:15,936 INFO sqlalchemy.engine.base.Engine COMMIT\n"
     ]
    }
   ],
   "source": [
    "session.add(tempe_survey)\n",
    "session.commit()"
   ]
  },
  {
   "cell_type": "code",
   "execution_count": null,
   "metadata": {},
   "outputs": [],
   "source": [
    "surveys = session.query(Survey).all()"
   ]
  },
  {
   "cell_type": "code",
   "execution_count": null,
   "metadata": {},
   "outputs": [],
   "source": [
    "for s in surveys:\n",
    "    print(s)"
   ]
  },
  {
   "cell_type": "code",
   "execution_count": null,
   "metadata": {},
   "outputs": [],
   "source": []
  }
 ],
 "metadata": {
  "kernelspec": {
   "display_name": "Python 3",
   "language": "python",
   "name": "python3"
  },
  "language_info": {
   "codemirror_mode": {
    "name": "ipython",
    "version": 3
   },
   "file_extension": ".py",
   "mimetype": "text/x-python",
   "name": "python",
   "nbconvert_exporter": "python",
   "pygments_lexer": "ipython3",
   "version": "3.8.0"
  }
 },
 "nbformat": 4,
 "nbformat_minor": 2
}
