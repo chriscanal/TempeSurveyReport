{
 "cells": [
  {
   "cell_type": "code",
   "execution_count": null,
   "metadata": {},
   "outputs": [],
   "source": [
    "import json\n",
    "from stats import (\n",
    "    print_stats,\n",
    "    print_dont_knows,\n",
    "    print_n_strong_agrees,\n",
    "    print_n_agrees,\n",
    "    print_n_strong_disagrees,\n",
    "    print_n_disagrees,\n",
    "    print_n_most_correlated,\n",
    ")\n",
    "import matplotlib.pyplot as plt\n",
    "%matplotlib inline\n",
    "from utils import get_data\n",
    "import pandas as pd\n",
    "pd.options.display.max_colwidth = 100\n",
    "json_file = open(\"report_config.json\")\n",
    "json_string = json_file.read()\n",
    "report_config = json.loads(json_string)\n",
    "\n",
    "data, q_map = get_data(\n",
    "    df_file=report_config[\"data_file\"],\n",
    "    col_names_file=report_config[\"full_questions_file\"],\n",
    ")"
   ]
  },
  {
   "cell_type": "code",
   "execution_count": null,
   "metadata": {},
   "outputs": [],
   "source": [
    "print_stats(\n",
    "    data=data,\n",
    "    q_map=q_map,\n",
    "    questions=report_config[\"Questions\"],\n",
    "    bar_chart=report_config[\"Barchart\"],\n",
    ")"
   ]
  },
  {
   "cell_type": "code",
   "execution_count": null,
   "metadata": {},
   "outputs": [],
   "source": [
    "print_dont_knows(data=data,n=report_config[\"Top N Dont Knows\"])"
   ]
  },
  {
   "cell_type": "code",
   "execution_count": null,
   "metadata": {},
   "outputs": [],
   "source": [
    "print_n_strong_agrees(data=data,n=report_config[\"Top N Strongly Agrees\"])"
   ]
  },
  {
   "cell_type": "code",
   "execution_count": null,
   "metadata": {},
   "outputs": [],
   "source": [
    "print_n_agrees(data=data,n=report_config[\"Top N Agrees\"])"
   ]
  },
  {
   "cell_type": "code",
   "execution_count": null,
   "metadata": {},
   "outputs": [],
   "source": [
    "print_n_strong_disagrees(data=data,n=report_config[\"Top N Strongly Disagrees\"])"
   ]
  },
  {
   "cell_type": "code",
   "execution_count": null,
   "metadata": {},
   "outputs": [],
   "source": [
    "print_n_disagrees(data=data,n=report_config[\"Top N Disagrees\"])"
   ]
  },
  {
   "cell_type": "code",
   "execution_count": null,
   "metadata": {},
   "outputs": [],
   "source": [
    "print_n_most_correlated(data=data,n=report_config[\"Top N Correlated\"])"
   ]
  }
 ],
 "metadata": {
  "kernelspec": {
   "display_name": "Python 3",
   "language": "python",
   "name": "python3"
  },
  "language_info": {
   "codemirror_mode": {
    "name": "ipython",
    "version": 3
   },
   "file_extension": ".py",
   "mimetype": "text/x-python",
   "name": "python",
   "nbconvert_exporter": "python",
   "pygments_lexer": "ipython3",
   "version": "3.8.0"
  }
 },
 "nbformat": 4,
 "nbformat_minor": 2
}
