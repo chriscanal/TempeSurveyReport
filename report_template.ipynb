{
 "cells": [
  {
   "cell_type": "markdown",
   "metadata": {},
   "source": [
    "# Survey Report\n",
    "The following is an automatically generated report. You can choose the data to be displayed in this report by editing the report_config.json file. "
   ]
  },
  {
   "cell_type": "code",
   "execution_count": 1,
   "metadata": {},
   "outputs": [],
   "source": [
    "import json\n",
    "from stats import (\n",
    "    print_stats,\n",
    "    print_dont_knows,\n",
    "    print_n_strong_agrees,\n",
    "    print_n_agrees,\n",
    "    print_n_strong_disagrees,\n",
    "    print_n_disagrees,\n",
    "    print_n_most_correlated,\n",
    "    print_n_most_polarizing\n",
    ")\n",
    "import matplotlib.pyplot as plt\n",
    "%matplotlib inline\n",
    "from utils import get_data\n",
    "import pandas as pd\n",
    "pd.options.display.max_colwidth = 100\n",
    "json_file = open(\"report_config.json\")\n",
    "json_string = json_file.read()\n",
    "report_config = json.loads(json_string)\n",
    "\n",
    "data, q_map = get_data(\n",
    "    df_file=report_config[\"data_file\"],\n",
    "    col_names_file=report_config[\"full_questions_file\"],\n",
    ")"
   ]
  },
  {
   "cell_type": "markdown",
   "metadata": {},
   "source": [
    "### statistics on specific questions\n",
    "The following questions have been selected for your review:"
   ]
  },
  {
   "cell_type": "code",
   "execution_count": 2,
   "metadata": {},
   "outputs": [
    {
     "data": {
      "text/html": [
       "<table style=\"display:inline\" border=\"1\" class=\"dataframe\">\n",
       "  <thead>\n",
       "    <tr style=\"text-align: right;\">\n",
       "      <th></th>\n",
       "      <th>Q1. I receive training to do my job effectively</th>\n",
       "    </tr>\n",
       "  </thead>\n",
       "  <tbody>\n",
       "    <tr>\n",
       "      <th>response count (1-5)</th>\n",
       "      <td>1111</td>\n",
       "    </tr>\n",
       "    <tr>\n",
       "      <th>average</th>\n",
       "      <td>3.80198</td>\n",
       "    </tr>\n",
       "    <tr>\n",
       "      <th>median</th>\n",
       "      <td>4</td>\n",
       "    </tr>\n",
       "    <tr>\n",
       "      <th>standard deviation</th>\n",
       "      <td>1.06477</td>\n",
       "    </tr>\n",
       "    <tr>\n",
       "      <th>percent dont know</th>\n",
       "      <td>0.0560748</td>\n",
       "    </tr>\n",
       "    <tr>\n",
       "      <th>most common response</th>\n",
       "      <td>Agree</td>\n",
       "    </tr>\n",
       "  </tbody>\n",
       "</table style=\"display:inline\"><table style=\"display:inline\" border=\"1\" class=\"dataframe\">\n",
       "  <thead>\n",
       "    <tr style=\"text-align: right;\">\n",
       "      <th></th>\n",
       "      <th>Possible Response Key</th>\n",
       "    </tr>\n",
       "  </thead>\n",
       "  <tbody>\n",
       "    <tr>\n",
       "      <th>1</th>\n",
       "      <td>strongly DISAGREE</td>\n",
       "    </tr>\n",
       "    <tr>\n",
       "      <th>2</th>\n",
       "      <td>Disagree</td>\n",
       "    </tr>\n",
       "    <tr>\n",
       "      <th>3</th>\n",
       "      <td>Neutral</td>\n",
       "    </tr>\n",
       "    <tr>\n",
       "      <th>4</th>\n",
       "      <td>Agree</td>\n",
       "    </tr>\n",
       "    <tr>\n",
       "      <th>5</th>\n",
       "      <td>Strongly AGREE</td>\n",
       "    </tr>\n",
       "    <tr>\n",
       "      <th>9</th>\n",
       "      <td>Don't Know</td>\n",
       "    </tr>\n",
       "  </tbody>\n",
       "</table style=\"display:inline\">"
      ]
     },
     "metadata": {},
     "output_type": "display_data"
    },
    {
     "data": {
      "image/png": "[encoded data removed]",
      "text/plain": [
       "<Figure size 432x288 with 1 Axes>"
      ]
     },
     "metadata": {
      "needs_background": "light"
     },
     "output_type": "display_data"
    },
    {
     "data": {
      "text/html": [
       "<table style=\"display:inline\" border=\"1\" class=\"dataframe\">\n",
       "  <thead>\n",
       "    <tr style=\"text-align: right;\">\n",
       "      <th></th>\n",
       "      <th>Q55. Senior managers in my department use input from employees to make decisions</th>\n",
       "    </tr>\n",
       "  </thead>\n",
       "  <tbody>\n",
       "    <tr>\n",
       "      <th>response count (1-5)</th>\n",
       "      <td>1032</td>\n",
       "    </tr>\n",
       "    <tr>\n",
       "      <th>average</th>\n",
       "      <td>3.07655</td>\n",
       "    </tr>\n",
       "    <tr>\n",
       "      <th>median</th>\n",
       "      <td>3</td>\n",
       "    </tr>\n",
       "    <tr>\n",
       "      <th>standard deviation</th>\n",
       "      <td>1.33844</td>\n",
       "    </tr>\n",
       "    <tr>\n",
       "      <th>percent dont know</th>\n",
       "      <td>0.123195</td>\n",
       "    </tr>\n",
       "    <tr>\n",
       "      <th>most common response</th>\n",
       "      <td>Agree</td>\n",
       "    </tr>\n",
       "  </tbody>\n",
       "</table style=\"display:inline\"><table style=\"display:inline\" border=\"1\" class=\"dataframe\">\n",
       "  <thead>\n",
       "    <tr style=\"text-align: right;\">\n",
       "      <th></th>\n",
       "      <th>Possible Response Key</th>\n",
       "    </tr>\n",
       "  </thead>\n",
       "  <tbody>\n",
       "    <tr>\n",
       "      <th>1</th>\n",
       "      <td>strongly DISAGREE</td>\n",
       "    </tr>\n",
       "    <tr>\n",
       "      <th>2</th>\n",
       "      <td>Disagree</td>\n",
       "    </tr>\n",
       "    <tr>\n",
       "      <th>3</th>\n",
       "      <td>Neutral</td>\n",
       "    </tr>\n",
       "    <tr>\n",
       "      <th>4</th>\n",
       "      <td>Agree</td>\n",
       "    </tr>\n",
       "    <tr>\n",
       "      <th>5</th>\n",
       "      <td>Strongly AGREE</td>\n",
       "    </tr>\n",
       "    <tr>\n",
       "      <th>9</th>\n",
       "      <td>Don't Know</td>\n",
       "    </tr>\n",
       "  </tbody>\n",
       "</table style=\"display:inline\">"
      ]
     },
     "metadata": {},
     "output_type": "display_data"
    },
    {
     "data": {
      "image/png": "[encoded data removed]",
      "text/plain": [
       "<Figure size 432x288 with 1 Axes>"
      ]
     },
     "metadata": {
      "needs_background": "light"
     },
     "output_type": "display_data"
    },
    {
     "data": {
      "text/html": [
       "<table style=\"display:inline\" border=\"1\" class=\"dataframe\">\n",
       "  <thead>\n",
       "    <tr style=\"text-align: right;\">\n",
       "      <th></th>\n",
       "      <th>Q60. My co-workers treat me with respect</th>\n",
       "    </tr>\n",
       "  </thead>\n",
       "  <tbody>\n",
       "    <tr>\n",
       "      <th>response count (1-5)</th>\n",
       "      <td>1111</td>\n",
       "    </tr>\n",
       "    <tr>\n",
       "      <th>average</th>\n",
       "      <td>4.18812</td>\n",
       "    </tr>\n",
       "    <tr>\n",
       "      <th>median</th>\n",
       "      <td>4</td>\n",
       "    </tr>\n",
       "    <tr>\n",
       "      <th>standard deviation</th>\n",
       "      <td>0.831629</td>\n",
       "    </tr>\n",
       "    <tr>\n",
       "      <th>percent dont know</th>\n",
       "      <td>0.0560748</td>\n",
       "    </tr>\n",
       "    <tr>\n",
       "      <th>most common response</th>\n",
       "      <td>Agree</td>\n",
       "    </tr>\n",
       "  </tbody>\n",
       "</table style=\"display:inline\"><table style=\"display:inline\" border=\"1\" class=\"dataframe\">\n",
       "  <thead>\n",
       "    <tr style=\"text-align: right;\">\n",
       "      <th></th>\n",
       "      <th>Possible Response Key</th>\n",
       "    </tr>\n",
       "  </thead>\n",
       "  <tbody>\n",
       "    <tr>\n",
       "      <th>1</th>\n",
       "      <td>strongly DISAGREE</td>\n",
       "    </tr>\n",
       "    <tr>\n",
       "      <th>2</th>\n",
       "      <td>Disagree</td>\n",
       "    </tr>\n",
       "    <tr>\n",
       "      <th>3</th>\n",
       "      <td>Neutral</td>\n",
       "    </tr>\n",
       "    <tr>\n",
       "      <th>4</th>\n",
       "      <td>Agree</td>\n",
       "    </tr>\n",
       "    <tr>\n",
       "      <th>5</th>\n",
       "      <td>Strongly AGREE</td>\n",
       "    </tr>\n",
       "    <tr>\n",
       "      <th>9</th>\n",
       "      <td>Don't Know</td>\n",
       "    </tr>\n",
       "  </tbody>\n",
       "</table style=\"display:inline\">"
      ]
     },
     "metadata": {},
     "output_type": "display_data"
    },
    {
     "data": {
      "image/png": "[encoded data removed]",
      "text/plain": [
       "<Figure size 432x288 with 1 Axes>"
      ]
     },
     "metadata": {
      "needs_background": "light"
     },
     "output_type": "display_data"
    }
   ],
   "source": [
    "print_stats(\n",
    "    data=data,\n",
    "    q_map=q_map,\n",
    "    questions=report_config[\"Questions\"],\n",
    "    bar_chart=report_config[\"Barchart\"],\n",
    ")"
   ]
  },
  {
   "cell_type": "markdown",
   "metadata": {},
   "source": [
    "### Ambigous or Irrelevant questions\n",
    "These were the top questions that people responded with \"I don't know\". Note that this could be because the question did not apply to them."
   ]
  },
  {
   "cell_type": "code",
   "execution_count": 3,
   "metadata": {},
   "outputs": [
    {
     "data": {
      "text/html": [
       "<div>\n",
       "<style scoped>\n",
       "    .dataframe tbody tr th:only-of-type {\n",
       "        vertical-align: middle;\n",
       "    }\n",
       "\n",
       "    .dataframe tbody tr th {\n",
       "        vertical-align: top;\n",
       "    }\n",
       "\n",
       "    .dataframe thead th {\n",
       "        text-align: right;\n",
       "    }\n",
       "</style>\n",
       "<table border=\"1\" class=\"dataframe\">\n",
       "  <thead>\n",
       "    <tr style=\"text-align: right;\">\n",
       "      <th></th>\n",
       "      <th>Question</th>\n",
       "      <th>Num Don't Knows</th>\n",
       "      <th>Percent Don't Know</th>\n",
       "    </tr>\n",
       "  </thead>\n",
       "  <tbody>\n",
       "    <tr>\n",
       "      <th>0</th>\n",
       "      <td>Q36. As a supervisor, I have been given the training, tools, and resources to lead my work unit</td>\n",
       "      <td>600</td>\n",
       "      <td>50.98%</td>\n",
       "    </tr>\n",
       "    <tr>\n",
       "      <th>1</th>\n",
       "      <td>Q31. As a supervisor, I am supported when addressing staff issues</td>\n",
       "      <td>591</td>\n",
       "      <td>50.21%</td>\n",
       "    </tr>\n",
       "    <tr>\n",
       "      <th>2</th>\n",
       "      <td>Q10c. The following programs/services adequately support my needs: The Safe Haven process</td>\n",
       "      <td>494</td>\n",
       "      <td>41.97%</td>\n",
       "    </tr>\n",
       "  </tbody>\n",
       "</table>\n",
       "</div>"
      ],
      "text/plain": [
       "                                                                                          Question  \\\n",
       "0  Q36. As a supervisor, I have been given the training, tools, and resources to lead my work unit   \n",
       "1                                Q31. As a supervisor, I am supported when addressing staff issues   \n",
       "2        Q10c. The following programs/services adequately support my needs: The Safe Haven process   \n",
       "\n",
       "   Num Don't Knows Percent Don't Know  \n",
       "0              600             50.98%  \n",
       "1              591             50.21%  \n",
       "2              494             41.97%  "
      ]
     },
     "metadata": {},
     "output_type": "display_data"
    }
   ],
   "source": [
    "print_dont_knows(data=data,n=report_config[\"Top N Dont Knows\"])"
   ]
  },
  {
   "cell_type": "markdown",
   "metadata": {},
   "source": [
    "### Strongest Agrees\n",
    "These questions had the highest number of \"strong agree\" responses:"
   ]
  },
  {
   "cell_type": "code",
   "execution_count": 4,
   "metadata": {},
   "outputs": [
    {
     "data": {
      "text/html": [
       "<div>\n",
       "<style scoped>\n",
       "    .dataframe tbody tr th:only-of-type {\n",
       "        vertical-align: middle;\n",
       "    }\n",
       "\n",
       "    .dataframe tbody tr th {\n",
       "        vertical-align: top;\n",
       "    }\n",
       "\n",
       "    .dataframe thead th {\n",
       "        text-align: right;\n",
       "    }\n",
       "</style>\n",
       "<table border=\"1\" class=\"dataframe\">\n",
       "  <thead>\n",
       "    <tr style=\"text-align: right;\">\n",
       "      <th></th>\n",
       "      <th>Question</th>\n",
       "      <th>Num Strong Agrees</th>\n",
       "      <th>Percent Strong Agree</th>\n",
       "    </tr>\n",
       "  </thead>\n",
       "  <tbody>\n",
       "    <tr>\n",
       "      <th>0</th>\n",
       "      <td>Q15. My immediate supervisor treats me with respect</td>\n",
       "      <td>566</td>\n",
       "      <td>48.09%</td>\n",
       "    </tr>\n",
       "    <tr>\n",
       "      <th>1</th>\n",
       "      <td>Q16. I know what is expected of me</td>\n",
       "      <td>497</td>\n",
       "      <td>42.23%</td>\n",
       "    </tr>\n",
       "    <tr>\n",
       "      <th>2</th>\n",
       "      <td>Q20. My work is appreciated by my immediate supervisor</td>\n",
       "      <td>460</td>\n",
       "      <td>39.08%</td>\n",
       "    </tr>\n",
       "  </tbody>\n",
       "</table>\n",
       "</div>"
      ],
      "text/plain": [
       "                                                 Question  Num Strong Agrees  \\\n",
       "0     Q15. My immediate supervisor treats me with respect                566   \n",
       "1                      Q16. I know what is expected of me                497   \n",
       "2  Q20. My work is appreciated by my immediate supervisor                460   \n",
       "\n",
       "  Percent Strong Agree  \n",
       "0               48.09%  \n",
       "1               42.23%  \n",
       "2               39.08%  "
      ]
     },
     "metadata": {},
     "output_type": "display_data"
    }
   ],
   "source": [
    "print_n_strong_agrees(data=data,n=report_config[\"Top N Strongly Agrees\"])"
   ]
  },
  {
   "cell_type": "markdown",
   "metadata": {},
   "source": [
    "### Strongest Agrees and Agrees\n",
    "These questions had the highest number of \"strong agree\" or \"agree\" responses:"
   ]
  },
  {
   "cell_type": "code",
   "execution_count": 5,
   "metadata": {},
   "outputs": [
    {
     "data": {
      "text/html": [
       "<div>\n",
       "<style scoped>\n",
       "    .dataframe tbody tr th:only-of-type {\n",
       "        vertical-align: middle;\n",
       "    }\n",
       "\n",
       "    .dataframe tbody tr th {\n",
       "        vertical-align: top;\n",
       "    }\n",
       "\n",
       "    .dataframe thead th {\n",
       "        text-align: right;\n",
       "    }\n",
       "</style>\n",
       "<table border=\"1\" class=\"dataframe\">\n",
       "  <thead>\n",
       "    <tr style=\"text-align: right;\">\n",
       "      <th></th>\n",
       "      <th>Question</th>\n",
       "      <th>Num Strong Agrees</th>\n",
       "      <th>Percent 'Strong Agree' or Agree</th>\n",
       "    </tr>\n",
       "  </thead>\n",
       "  <tbody>\n",
       "    <tr>\n",
       "      <th>0</th>\n",
       "      <td>Q60. My co-workers treat me with respect</td>\n",
       "      <td>961</td>\n",
       "      <td>81.65%</td>\n",
       "    </tr>\n",
       "    <tr>\n",
       "      <th>1</th>\n",
       "      <td>Q16. I know what is expected of me</td>\n",
       "      <td>940</td>\n",
       "      <td>79.86%</td>\n",
       "    </tr>\n",
       "    <tr>\n",
       "      <th>2</th>\n",
       "      <td>Q15. My immediate supervisor treats me with respect</td>\n",
       "      <td>914</td>\n",
       "      <td>77.66%</td>\n",
       "    </tr>\n",
       "  </tbody>\n",
       "</table>\n",
       "</div>"
      ],
      "text/plain": [
       "                                              Question  Num Strong Agrees  \\\n",
       "0             Q60. My co-workers treat me with respect                961   \n",
       "1                   Q16. I know what is expected of me                940   \n",
       "2  Q15. My immediate supervisor treats me with respect                914   \n",
       "\n",
       "  Percent 'Strong Agree' or Agree  \n",
       "0                          81.65%  \n",
       "1                          79.86%  \n",
       "2                          77.66%  "
      ]
     },
     "metadata": {},
     "output_type": "display_data"
    }
   ],
   "source": [
    "print_n_agrees(data=data,n=report_config[\"Top N Agrees\"])"
   ]
  },
  {
   "cell_type": "markdown",
   "metadata": {},
   "source": [
    "### Strongest Disagrees\n",
    "These questions had the highest number of \"strong disagree\" responses:"
   ]
  },
  {
   "cell_type": "code",
   "execution_count": 10,
   "metadata": {},
   "outputs": [
    {
     "data": {
      "text/html": [
       "<div>\n",
       "<style scoped>\n",
       "    .dataframe tbody tr th:only-of-type {\n",
       "        vertical-align: middle;\n",
       "    }\n",
       "\n",
       "    .dataframe tbody tr th {\n",
       "        vertical-align: top;\n",
       "    }\n",
       "\n",
       "    .dataframe thead th {\n",
       "        text-align: right;\n",
       "    }\n",
       "</style>\n",
       "<table border=\"1\" class=\"dataframe\">\n",
       "  <thead>\n",
       "    <tr style=\"text-align: right;\">\n",
       "      <th></th>\n",
       "      <th>Question</th>\n",
       "      <th>Num Strong Disagrees</th>\n",
       "      <th>Percent Strong Disagree</th>\n",
       "    </tr>\n",
       "  </thead>\n",
       "  <tbody>\n",
       "    <tr>\n",
       "      <th>0</th>\n",
       "      <td>Q65. Are you proud to work for the City of Tempe?</td>\n",
       "      <td>967</td>\n",
       "      <td>82.16%</td>\n",
       "    </tr>\n",
       "    <tr>\n",
       "      <th>1</th>\n",
       "      <td>Q70. Would like to finish your career with the City of Tempe?</td>\n",
       "      <td>884</td>\n",
       "      <td>75.11%</td>\n",
       "    </tr>\n",
       "    <tr>\n",
       "      <th>2</th>\n",
       "      <td>Q68. Would you recommend the City of Tempe as a place to work to a friend or relative?</td>\n",
       "      <td>858</td>\n",
       "      <td>72.90%</td>\n",
       "    </tr>\n",
       "  </tbody>\n",
       "</table>\n",
       "</div>"
      ],
      "text/plain": [
       "                                                                                 Question  \\\n",
       "0                                       Q65. Are you proud to work for the City of Tempe?   \n",
       "1                           Q70. Would like to finish your career with the City of Tempe?   \n",
       "2  Q68. Would you recommend the City of Tempe as a place to work to a friend or relative?   \n",
       "\n",
       "   Num Strong Disagrees Percent Strong Disagree  \n",
       "0                   967                  82.16%  \n",
       "1                   884                  75.11%  \n",
       "2                   858                  72.90%  "
      ]
     },
     "metadata": {},
     "output_type": "display_data"
    }
   ],
   "source": [
    "print_n_strong_disagrees(data=data,n=report_config[\"Top N Strongly Disagrees\"])"
   ]
  },
  {
   "cell_type": "markdown",
   "metadata": {},
   "source": [
    "### Strongest Disagrees and Disagrees\n",
    "These questions had the highest number of \"strong disagree\" or \"disagree\" responses:"
   ]
  },
  {
   "cell_type": "code",
   "execution_count": 11,
   "metadata": {},
   "outputs": [
    {
     "data": {
      "text/html": [
       "<div>\n",
       "<style scoped>\n",
       "    .dataframe tbody tr th:only-of-type {\n",
       "        vertical-align: middle;\n",
       "    }\n",
       "\n",
       "    .dataframe tbody tr th {\n",
       "        vertical-align: top;\n",
       "    }\n",
       "\n",
       "    .dataframe thead th {\n",
       "        text-align: right;\n",
       "    }\n",
       "</style>\n",
       "<table border=\"1\" class=\"dataframe\">\n",
       "  <thead>\n",
       "    <tr style=\"text-align: right;\">\n",
       "      <th></th>\n",
       "      <th>Question</th>\n",
       "      <th>Num Strong Disagrees</th>\n",
       "      <th>Percent 'Strong Disagree' or Disagree</th>\n",
       "    </tr>\n",
       "  </thead>\n",
       "  <tbody>\n",
       "    <tr>\n",
       "      <th>0</th>\n",
       "      <td>Q71. Have you applied for a new position within the City of Tempe in the past two years?</td>\n",
       "      <td>1086</td>\n",
       "      <td>92.27%</td>\n",
       "    </tr>\n",
       "    <tr>\n",
       "      <th>1</th>\n",
       "      <td>Q65. Are you proud to work for the City of Tempe?</td>\n",
       "      <td>1014</td>\n",
       "      <td>86.15%</td>\n",
       "    </tr>\n",
       "    <tr>\n",
       "      <th>2</th>\n",
       "      <td>Q69. Does the City's working environment and leadership encourage you to go above and beyond the...</td>\n",
       "      <td>964</td>\n",
       "      <td>81.90%</td>\n",
       "    </tr>\n",
       "  </tbody>\n",
       "</table>\n",
       "</div>"
      ],
      "text/plain": [
       "                                                                                              Question  \\\n",
       "0             Q71. Have you applied for a new position within the City of Tempe in the past two years?   \n",
       "1                                                    Q65. Are you proud to work for the City of Tempe?   \n",
       "2  Q69. Does the City's working environment and leadership encourage you to go above and beyond the...   \n",
       "\n",
       "   Num Strong Disagrees Percent 'Strong Disagree' or Disagree  \n",
       "0                  1086                                92.27%  \n",
       "1                  1014                                86.15%  \n",
       "2                   964                                81.90%  "
      ]
     },
     "metadata": {},
     "output_type": "display_data"
    }
   ],
   "source": [
    "print_n_disagrees(data=data,n=report_config[\"Top N Disagrees\"])"
   ]
  },
  {
   "cell_type": "markdown",
   "metadata": {},
   "source": [
    "### Highest correlated responses\n",
    "In the following cell, I calculate the pearson correlation coefficient between every pair of questions. This measurement could indicate redundancy in the survey or questions were likely to yield a response given a like minded employee.\n",
    "(see: https://en.wikipedia.org/wiki/Pearson_correlation_coefficient) "
   ]
  },
  {
   "cell_type": "code",
   "execution_count": 8,
   "metadata": {},
   "outputs": [
    {
     "data": {
      "text/html": [
       "<div>\n",
       "<style scoped>\n",
       "    .dataframe tbody tr th:only-of-type {\n",
       "        vertical-align: middle;\n",
       "    }\n",
       "\n",
       "    .dataframe tbody tr th {\n",
       "        vertical-align: top;\n",
       "    }\n",
       "\n",
       "    .dataframe thead th {\n",
       "        text-align: right;\n",
       "    }\n",
       "</style>\n",
       "<table border=\"1\" class=\"dataframe\">\n",
       "  <thead>\n",
       "    <tr style=\"text-align: right;\">\n",
       "      <th></th>\n",
       "      <th>Question 1</th>\n",
       "      <th>Question 2</th>\n",
       "      <th>Pearson correlation coefficient</th>\n",
       "    </tr>\n",
       "  </thead>\n",
       "  <tbody>\n",
       "    <tr>\n",
       "      <th>0</th>\n",
       "      <td>Q45. I think the amount I am paid is adequate for the work I do</td>\n",
       "      <td>Q47. Overall, I am reasonably compensated in pay and benefits for the work I do</td>\n",
       "      <td>0.870394</td>\n",
       "    </tr>\n",
       "    <tr>\n",
       "      <th>1</th>\n",
       "      <td>Q21. My immediate supervisor gives me clear expectations for work assignments</td>\n",
       "      <td>Q23. I receive constructive feedback on my job performance from my immediate supervisor</td>\n",
       "      <td>0.866241</td>\n",
       "    </tr>\n",
       "    <tr>\n",
       "      <th>2</th>\n",
       "      <td>Q21. My immediate supervisor gives me clear expectations for work assignments</td>\n",
       "      <td>Q22. My immediate supervisor makes good use of my time</td>\n",
       "      <td>0.846077</td>\n",
       "    </tr>\n",
       "  </tbody>\n",
       "</table>\n",
       "</div>"
      ],
      "text/plain": [
       "                                                                      Question 1  \\\n",
       "0                Q45. I think the amount I am paid is adequate for the work I do   \n",
       "1  Q21. My immediate supervisor gives me clear expectations for work assignments   \n",
       "2  Q21. My immediate supervisor gives me clear expectations for work assignments   \n",
       "\n",
       "                                                                                Question 2  \\\n",
       "0          Q47. Overall, I am reasonably compensated in pay and benefits for the work I do   \n",
       "1  Q23. I receive constructive feedback on my job performance from my immediate supervisor   \n",
       "2                                   Q22. My immediate supervisor makes good use of my time   \n",
       "\n",
       "   Pearson correlation coefficient  \n",
       "0                         0.870394  \n",
       "1                         0.866241  \n",
       "2                         0.846077  "
      ]
     },
     "metadata": {},
     "output_type": "display_data"
    }
   ],
   "source": [
    "print_n_most_correlated(data=data,n=report_config[\"Top N Correlated\"])"
   ]
  },
  {
   "cell_type": "markdown",
   "metadata": {},
   "source": [
    "### Most polarizing questions\n",
    "I developed a measurement of polarization for each question. I define a polarizing question as one that has close to equal number of respondents for \"strongly agree\" and \"strongly disagree\" and where most of the responses are either \"strongly agree\" or \"strongly disagree\". 0 is the most polarizing and 2 is the least polarizing."
   ]
  },
  {
   "cell_type": "code",
   "execution_count": 9,
   "metadata": {},
   "outputs": [
    {
     "data": {
      "text/html": [
       "<div>\n",
       "<style scoped>\n",
       "    .dataframe tbody tr th:only-of-type {\n",
       "        vertical-align: middle;\n",
       "    }\n",
       "\n",
       "    .dataframe tbody tr th {\n",
       "        vertical-align: top;\n",
       "    }\n",
       "\n",
       "    .dataframe thead th {\n",
       "        text-align: right;\n",
       "    }\n",
       "</style>\n",
       "<table border=\"1\" class=\"dataframe\">\n",
       "  <thead>\n",
       "    <tr style=\"text-align: right;\">\n",
       "      <th></th>\n",
       "      <th>Question</th>\n",
       "      <th>Polarization Score</th>\n",
       "    </tr>\n",
       "  </thead>\n",
       "  <tbody>\n",
       "    <tr>\n",
       "      <th>0</th>\n",
       "      <td>Q71. Have you applied for a new position within the City of Tempe in the past two years?</td>\n",
       "      <td>0.302174</td>\n",
       "    </tr>\n",
       "    <tr>\n",
       "      <th>1</th>\n",
       "      <td>Q64. Are you aware of the Council priorities and the City's Strategic Plan (Planning Process)?</td>\n",
       "      <td>0.338269</td>\n",
       "    </tr>\n",
       "    <tr>\n",
       "      <th>2</th>\n",
       "      <td>Q69. Does the City's working environment and leadership encourage you to go above and beyond the...</td>\n",
       "      <td>0.432384</td>\n",
       "    </tr>\n",
       "    <tr>\n",
       "      <th>3</th>\n",
       "      <td>Q55. Senior managers in my department use input from employees to make decisions</td>\n",
       "      <td>0.735060</td>\n",
       "    </tr>\n",
       "    <tr>\n",
       "      <th>4</th>\n",
       "      <td>Q34. I believe exceptional job performance is recognized appropriately by managers/supervisors i...</td>\n",
       "      <td>0.788143</td>\n",
       "    </tr>\n",
       "  </tbody>\n",
       "</table>\n",
       "</div>"
      ],
      "text/plain": [
       "                                                                                              Question  \\\n",
       "0             Q71. Have you applied for a new position within the City of Tempe in the past two years?   \n",
       "1       Q64. Are you aware of the Council priorities and the City's Strategic Plan (Planning Process)?   \n",
       "2  Q69. Does the City's working environment and leadership encourage you to go above and beyond the...   \n",
       "3                     Q55. Senior managers in my department use input from employees to make decisions   \n",
       "4  Q34. I believe exceptional job performance is recognized appropriately by managers/supervisors i...   \n",
       "\n",
       "   Polarization Score  \n",
       "0            0.302174  \n",
       "1            0.338269  \n",
       "2            0.432384  \n",
       "3            0.735060  \n",
       "4            0.788143  "
      ]
     },
     "metadata": {},
     "output_type": "display_data"
    }
   ],
   "source": [
    "print_n_most_polarizing(data=data,n=report_config[\"Top N polarizing\"])"
   ]
  }
 ],
 "metadata": {
  "kernelspec": {
   "display_name": "Python 3",
   "language": "python",
   "name": "python3"
  },
  "language_info": {
   "codemirror_mode": {
    "name": "ipython",
    "version": 3
   },
   "file_extension": ".py",
   "mimetype": "text/x-python",
   "name": "python",
   "nbconvert_exporter": "python",
   "pygments_lexer": "ipython3",
   "version": "3.8.0"
  }
 },
 "nbformat": 4,
 "nbformat_minor": 2
}
